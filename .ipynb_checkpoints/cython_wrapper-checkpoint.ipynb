{
 "cells": [
  {
   "cell_type": "code",
   "execution_count": 1,
   "metadata": {},
   "outputs": [],
   "source": [
    "%load_ext Cython\n",
    "%matplotlib inline\n",
    "%load_ext autoreload\n",
    "%autoreload 2\n",
    "%reload_ext autoreload"
   ]
  },
  {
   "cell_type": "code",
   "execution_count": 2,
   "metadata": {},
   "outputs": [
    {
     "data": {
      "text/plain": [
       "'/Users/CocoLelio/code/Algorithm_Engineering/self_svd_implementation'"
      ]
     },
     "execution_count": 2,
     "metadata": {},
     "output_type": "execute_result"
    }
   ],
   "source": [
    "import os\n",
    "os.getcwd()"
   ]
  },
  {
   "cell_type": "code",
   "execution_count": 3,
   "metadata": {},
   "outputs": [],
   "source": [
    "%%cython\n",
    "import os\n",
    "\n",
    "os.getcwd()\n",
    "# distutils: language = c++\n",
    "# distutils: source = power_method.cpp\n",
    "# distutils: extra_compile_args =  -stdlib=libc++\n",
    "# distutils: include_dirs = \"/usr/local/include/eigen3/Eigen\"\n",
    "# distutils: library_dirs = '.'\n",
    "# cython: language_level = 3\n",
    "# cython: CC=gcc-9 XCC= g++-9\n",
    "# cython: boundscheck = False\n",
    "# cython: wraparound = False\n",
    "\n",
    "\n",
    "from libcpp.vector cimport vector\n",
    "import numpy as np\n",
    "\n",
    "cdef extern from \"power_method.h\":\n",
    "    struct usv_native:\n",
    "        double* U\n",
    "        double* S\n",
    "        double* V\n",
    "        int num_eign\n",
    "        int row\n",
    "        int col\n",
    "        \n",
    "    void free_svd_result(usv_native* r)\n",
    "    \n",
    "    usv_native power_method_with_deflation(double* A, int row, int col, \n",
    "                                          double threshold, double eigen_acurracy)\n",
    "        \n",
    "\n",
    "def partial_svd(double[:,::1] A, double threshold = -1, double eigen_acurracy = 0.0001 ):\n",
    "    \n",
    "\n",
    "    print(A)\n",
    "    # cdef usv_native res = power_method_with_deflation(&A[0,0], A.shape[0], A.shape[1], treshold, eigen_accuracy)\n",
    "    \n",
    "    # cdef int row = res[0].row , num_eigen = res[0].num_eigen , col = res[0].col\n",
    "    \n",
    "    # print(res[0])\n",
    "    # U  = np.empty(shape=(num_eigen, row), dtype = np.double)\n",
    "    # s  = np.empty(shape=(num_eigen), dtype = np.double)\n",
    "    # VT = np.empty(shape=(num_eigen,  col), dtype = np.double)\n",
    "    \n",
    "    # if(k > 0):\n",
    "    #     U[:,:] = <double[:num_eigen, :row]> res[0].U_n\n",
    "    #     s[:] = <double[:num_eigen]> res[0].S_n\n",
    "    #     VT[:,:] = <double[:num_eigen, :col]> res[0].V_n\n",
    "    a = np.arange(1,16).reshape(3,5)\n",
    "    return a, a, a"
   ]
  },
  {
   "cell_type": "code",
   "execution_count": 10,
   "metadata": {},
   "outputs": [
    {
     "name": "stdout",
     "output_type": "stream",
     "text": [
      "[[ 1  2  3  4  5]\n",
      " [ 6  7  8  9 10]\n",
      " [11 12 13 14 15]]\n"
     ]
    }
   ],
   "source": [
    "a = np.arange(1,16).reshape(3,5)\n",
    "\n",
    "print(a)"
   ]
  },
  {
   "cell_type": "code",
   "execution_count": null,
   "metadata": {},
   "outputs": [],
   "source": []
  }
 ],
 "metadata": {
  "kernelspec": {
   "display_name": "Python 3",
   "language": "python",
   "name": "python3"
  },
  "language_info": {
   "codemirror_mode": {
    "name": "ipython",
    "version": 3
   },
   "file_extension": ".py",
   "mimetype": "text/x-python",
   "name": "python",
   "nbconvert_exporter": "python",
   "pygments_lexer": "ipython3",
   "version": "3.7.6"
  }
 },
 "nbformat": 4,
 "nbformat_minor": 4
}
