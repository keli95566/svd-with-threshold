{
 "cells": [
  {
   "cell_type": "code",
   "execution_count": 1,
   "metadata": {
    "collapsed": true
   },
   "outputs": [],
   "source": [
    "from partial_svd import *\n",
    "import numpy as np\n",
    "import matplotlib.pyplot as plt\n",
    "import cv2"
   ]
  },
  {
   "cell_type": "markdown",
   "metadata": {},
   "source": [
    "### Comparing Result with Numpy\n",
    "\n",
    "We could do the same computation through the numpy svd function.  Compute a same matrix and see if the results from both packages are the same"
   ]
  },
  {
   "cell_type": "code",
   "execution_count": 9,
   "metadata": {
    "collapsed": true
   },
   "outputs": [],
   "source": [
    "row , col = 5, 8\n",
    "a = np.arange(1, row*col + 1,dtype = np.float64).reshape(row,col)"
   ]
  },
  {
   "cell_type": "code",
   "execution_count": 10,
   "metadata": {
    "collapsed": true
   },
   "outputs": [],
   "source": [
    "u, s, v = compute_svd(a, 2, 0.0000001)\n",
    "u2,s2, v2 = np.linalg.svd(a)"
   ]
  },
  {
   "cell_type": "code",
   "execution_count": 11,
   "metadata": {
    "collapsed": false
   },
   "outputs": [
    {
     "data": {
      "text/plain": [
       "(array([[ 0.08904994, -0.76948327],\n",
       "        [ 0.24073032, -0.49204534],\n",
       "        [ 0.39241067, -0.21460472],\n",
       "        [ 0.54409105,  0.0628306 ],\n",
       "        [ 0.6957714 ,  0.34027055]]),\n",
       " array([148.6315155 ,   6.97643948]),\n",
       " array([[ 0.30605444,  0.31925523,  0.33245602,  0.34565681,  0.3588576 ,\n",
       "          0.37205839,  0.38525918,  0.39845997],\n",
       "        [ 0.56669617,  0.41288817,  0.25908017,  0.10527217, -0.04853582,\n",
       "         -0.20234394, -0.35615182, -0.5099597 ]]))"
      ]
     },
     "execution_count": 11,
     "metadata": {},
     "output_type": "execute_result"
    }
   ],
   "source": [
    "u, s, v"
   ]
  },
  {
   "cell_type": "code",
   "execution_count": 12,
   "metadata": {
    "collapsed": false
   },
   "outputs": [
    {
     "data": {
      "text/plain": [
       "(array([[-0.08905037, -0.76946087,  0.54294303, -0.15878287, -0.28284425],\n",
       "        [-0.24073058, -0.49198454, -0.66548962,  0.48813542, -0.13728577],\n",
       "        [-0.39241079, -0.21450821,  0.08032656, -0.05006994,  0.88940466],\n",
       "        [-0.544091  ,  0.06296812, -0.33595638, -0.72913491, -0.23557502],\n",
       "        [-0.69577121,  0.34044445,  0.37817641,  0.4498523 , -0.23369962]]),\n",
       " array([1.48631522e+02, 6.97643742e+00, 6.29315474e-15, 2.75305002e-15,\n",
       "        6.93110099e-16]),\n",
       " array([[-0.30605442, -0.31925521, -0.332456  , -0.3456568 , -0.35885759,\n",
       "         -0.37205838, -0.38525918, -0.39845997],\n",
       "        [ 0.56832857,  0.41459092,  0.26085328,  0.10711564, -0.046622  ,\n",
       "         -0.20035965, -0.35409729, -0.50783493],\n",
       "        [ 0.00222129, -0.22173153,  0.17605313,  0.03581244,  0.11581949,\n",
       "          0.37723567, -0.81060505,  0.32519456],\n",
       "        [-0.03815972,  0.11593867, -0.48505115, -0.15930901,  0.72414494,\n",
       "          0.26186548, -0.06218794, -0.35724127],\n",
       "        [-0.23084617, -0.44541739,  0.59983638,  0.05485486,  0.14115324,\n",
       "          0.23706929,  0.17222795, -0.52887815],\n",
       "        [-0.29939678,  0.35633547, -0.21096252,  0.32761187, -0.47848008,\n",
       "          0.58244965, -0.02732933, -0.25022828],\n",
       "        [-0.6600973 ,  0.4612482 ,  0.26923042,  0.16614104,  0.26241716,\n",
       "         -0.38337514, -0.17802562,  0.06246123],\n",
       "        [-0.05670458,  0.35420659,  0.27993815, -0.83931179, -0.11626427,\n",
       "          0.26100257,  0.05603665,  0.06109669]]))"
      ]
     },
     "execution_count": 12,
     "metadata": {},
     "output_type": "execute_result"
    }
   ],
   "source": [
    "u2, s2, v2"
   ]
  },
  {
   "cell_type": "code",
   "execution_count": 13,
   "metadata": {
    "collapsed": false
   },
   "outputs": [],
   "source": [
    "U_c = np.zeros((row, row), dtype = np.float64)\n",
    "S_c = np.zeros((row), dtype = np.float64)\n",
    "V_c = np.zeros((col, col), dtype = np.float64)"
   ]
  },
  {
   "cell_type": "code",
   "execution_count": 16,
   "metadata": {
    "collapsed": false
   },
   "outputs": [],
   "source": [
    "num_eigen = s.shape[0]\n",
    "U_c[:,:num_eigen] = u\n",
    "S_c[:num_eigen] = s\n",
    "V_c[:num_eigen, :] = v"
   ]
  },
  {
   "cell_type": "code",
   "execution_count": 17,
   "metadata": {
    "collapsed": false
   },
   "outputs": [],
   "source": [
    "S = np.array(U_c * S_c)"
   ]
  },
  {
   "cell_type": "markdown",
   "metadata": {},
   "source": [
    "### Image Denosing Examples"
   ]
  },
  {
   "cell_type": "code",
   "execution_count": 21,
   "metadata": {
    "collapsed": false
   },
   "outputs": [
    {
     "ename": "TypeError",
     "evalue": "imread() takes at most 2 arguments (3 given)",
     "output_type": "error",
     "traceback": [
      "\u001b[0;31m---------------------------------------------------------------------------\u001b[0m",
      "\u001b[0;31mTypeError\u001b[0m                                 Traceback (most recent call last)",
      "\u001b[0;32m<ipython-input-21-4d2d5866f046>\u001b[0m in \u001b[0;36m<module>\u001b[0;34m()\u001b[0m\n\u001b[0;32m----> 1\u001b[0;31m \u001b[0mimg\u001b[0m \u001b[0;34m=\u001b[0m \u001b[0mcv2\u001b[0m\u001b[0;34m.\u001b[0m\u001b[0mimread\u001b[0m\u001b[0;34m(\u001b[0m\u001b[0;34m'noisy.jpg'\u001b[0m\u001b[0;34m,\u001b[0m\u001b[0mcv2\u001b[0m\u001b[0;34m.\u001b[0m\u001b[0mIMREAD_GRAYSCALE\u001b[0m\u001b[0;34m,\u001b[0m \u001b[0mdtype\u001b[0m \u001b[0;34m=\u001b[0m \u001b[0mnp\u001b[0m\u001b[0;34m.\u001b[0m\u001b[0mfloat64\u001b[0m\u001b[0;34m)\u001b[0m\u001b[0;34m\u001b[0m\u001b[0m\n\u001b[0m",
      "\u001b[0;31mTypeError\u001b[0m: imread() takes at most 2 arguments (3 given)"
     ]
    }
   ],
   "source": [
    "img = cv2.imread('noisy.jpg',cv2.IMREAD_GRAYSCALE)"
   ]
  },
  {
   "cell_type": "code",
   "execution_count": 20,
   "metadata": {
    "collapsed": false
   },
   "outputs": [
    {
     "ename": "ValueError",
     "evalue": "Buffer dtype mismatch, expected 'double' but got 'unsigned char'",
     "output_type": "error",
     "traceback": [
      "\u001b[0;31m---------------------------------------------------------------------------\u001b[0m",
      "\u001b[0;31mValueError\u001b[0m                                Traceback (most recent call last)",
      "\u001b[0;32m<ipython-input-20-57941fe4a391>\u001b[0m in \u001b[0;36m<module>\u001b[0;34m()\u001b[0m\n\u001b[0;32m----> 1\u001b[0;31m \u001b[0mu\u001b[0m\u001b[0;34m,\u001b[0m\u001b[0ms\u001b[0m\u001b[0;34m,\u001b[0m\u001b[0mvt\u001b[0m \u001b[0;34m=\u001b[0m \u001b[0mcompute_svd\u001b[0m\u001b[0;34m(\u001b[0m\u001b[0mimg\u001b[0m\u001b[0;34m,\u001b[0m \u001b[0;36m2\u001b[0m\u001b[0;34m,\u001b[0m \u001b[0;36m0.001\u001b[0m\u001b[0;34m)\u001b[0m\u001b[0;34m\u001b[0m\u001b[0m\n\u001b[0m",
      "\u001b[0;32m/home/tu65fis/code/svd-with-threshold/partial_svd.pyx\u001b[0m in \u001b[0;36mpartial_svd.compute_svd\u001b[0;34m()\u001b[0m\n\u001b[1;32m     23\u001b[0m \u001b[0;34m\u001b[0m\u001b[0m\n\u001b[1;32m     24\u001b[0m \u001b[0;34m\u001b[0m\u001b[0m\n\u001b[0;32m---> 25\u001b[0;31m \u001b[0;32mdef\u001b[0m \u001b[0mcompute_svd\u001b[0m\u001b[0;34m(\u001b[0m\u001b[0mdouble\u001b[0m\u001b[0;34m[\u001b[0m\u001b[0;34m:\u001b[0m\u001b[0;34m,\u001b[0m\u001b[0;34m:\u001b[0m\u001b[0;34m:\u001b[0m\u001b[0;36m1\u001b[0m\u001b[0;34m]\u001b[0m \u001b[0mA\u001b[0m\u001b[0;34m,\u001b[0m \u001b[0mdouble\u001b[0m \u001b[0mthreshold\u001b[0m\u001b[0;34m,\u001b[0m \u001b[0mdouble\u001b[0m \u001b[0meigen_acurracy\u001b[0m \u001b[0;34m)\u001b[0m\u001b[0;34m:\u001b[0m\u001b[0;34m\u001b[0m\u001b[0m\n\u001b[0m\u001b[1;32m     26\u001b[0m \u001b[0;34m\u001b[0m\u001b[0m\n\u001b[1;32m     27\u001b[0m     \u001b[0mcdef\u001b[0m \u001b[0musv_native\u001b[0m \u001b[0mres\u001b[0m \u001b[0;34m=\u001b[0m \u001b[0mpower_method_with_deflation\u001b[0m\u001b[0;34m(\u001b[0m\u001b[0;34m&\u001b[0m\u001b[0mA\u001b[0m\u001b[0;34m[\u001b[0m\u001b[0;36m0\u001b[0m\u001b[0;34m,\u001b[0m\u001b[0;36m0\u001b[0m\u001b[0;34m]\u001b[0m\u001b[0;34m,\u001b[0m \u001b[0mA\u001b[0m\u001b[0;34m.\u001b[0m\u001b[0mshape\u001b[0m\u001b[0;34m[\u001b[0m\u001b[0;36m0\u001b[0m\u001b[0;34m]\u001b[0m\u001b[0;34m,\u001b[0m \u001b[0mA\u001b[0m\u001b[0;34m.\u001b[0m\u001b[0mshape\u001b[0m\u001b[0;34m[\u001b[0m\u001b[0;36m1\u001b[0m\u001b[0;34m]\u001b[0m\u001b[0;34m,\u001b[0m \u001b[0mthreshold\u001b[0m\u001b[0;34m,\u001b[0m \u001b[0meigen_acurracy\u001b[0m\u001b[0;34m)\u001b[0m\u001b[0;34m\u001b[0m\u001b[0m\n",
      "\u001b[0;31mValueError\u001b[0m: Buffer dtype mismatch, expected 'double' but got 'unsigned char'"
     ]
    }
   ],
   "source": [
    "u,s,vt = compute_svd(img, 2, 0.001)"
   ]
  },
  {
   "cell_type": "code",
   "execution_count": null,
   "metadata": {
    "collapsed": true
   },
   "outputs": [],
   "source": []
  }
 ],
 "metadata": {
  "kernelspec": {
   "display_name": "Python 3",
   "language": "python",
   "name": "python3"
  },
  "language_info": {
   "codemirror_mode": {
    "name": "ipython",
    "version": 3
   },
   "file_extension": ".py",
   "mimetype": "text/x-python",
   "name": "python",
   "nbconvert_exporter": "python",
   "pygments_lexer": "ipython3",
   "version": "3.5.3"
  }
 },
 "nbformat": 4,
 "nbformat_minor": 4
}
