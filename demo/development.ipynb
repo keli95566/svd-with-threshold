{
 "cells": [
  {
   "cell_type": "code",
   "execution_count": 10,
   "metadata": {},
   "outputs": [
    {
     "name": "stdout",
     "output_type": "stream",
     "text": [
      "The autoreload extension is already loaded. To reload it, use:\n",
      "  %reload_ext autoreload\n"
     ]
    }
   ],
   "source": [
    "%matplotlib inline\n",
    "%load_ext autoreload\n",
    "%autoreload 2\n",
    "%reload_ext autoreload\n",
    "import pyximport; \n",
    "pyximport.install()\n",
    "\n",
    "import sys\n",
    "import os\n",
    "sys.path.insert(1,'../cylib')\n",
    "\n",
    "import numpy as np\n",
    "\n",
    "from tSVD import *\n"
   ]
  },
  {
   "cell_type": "code",
   "execution_count": 11,
   "metadata": {},
   "outputs": [],
   "source": [
    "a = np.arange(1,31, dtype=np.float64).reshape(5,6)"
   ]
  },
  {
   "cell_type": "code",
   "execution_count": 13,
   "metadata": {},
   "outputs": [
    {
     "data": {
      "text/plain": [
       "(array([[ 0.09159048, -0.76918679],\n",
       "        [ 0.24235368, -0.49124914],\n",
       "        [ 0.39311689, -0.21331289],\n",
       "        [ 0.54388011,  0.06462598],\n",
       "        [ 0.69464332,  0.3425597 ]]),\n",
       " array([97.13375854,  4.47569466]),\n",
       " array([[ 0.35619327,  0.37642911,  0.39666498,  0.41690081,  0.43713668,\n",
       "          0.45737255],\n",
       "        [ 0.62803388,  0.38973272,  0.1514318 , -0.08686972, -0.32517099,\n",
       "         -0.56347179]]))"
      ]
     },
     "execution_count": 13,
     "metadata": {},
     "output_type": "execute_result"
    }
   ],
   "source": []
  },
  {
   "cell_type": "code",
   "execution_count": null,
   "metadata": {},
   "outputs": [],
   "source": []
  }
 ],
 "metadata": {
  "kernelspec": {
   "display_name": "Python 3",
   "language": "python",
   "name": "python3"
  },
  "language_info": {
   "codemirror_mode": {
    "name": "ipython",
    "version": 3
   },
   "file_extension": ".py",
   "mimetype": "text/x-python",
   "name": "python",
   "nbconvert_exporter": "python",
   "pygments_lexer": "ipython3",
   "version": "3.7.6"
  }
 },
 "nbformat": 4,
 "nbformat_minor": 4
}
