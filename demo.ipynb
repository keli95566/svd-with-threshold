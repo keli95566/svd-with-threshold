{
 "cells": [
  {
   "cell_type": "code",
   "execution_count": 1,
   "metadata": {},
   "outputs": [],
   "source": [
    "from partial_svd import *\n",
    "import numpy as np\n"
   ]
  },
  {
   "cell_type": "code",
   "execution_count": 2,
   "metadata": {},
   "outputs": [],
   "source": [
    "a = np.arange(1,41,dtype = np.float64).reshape(5,8)"
   ]
  },
  {
   "cell_type": "code",
   "execution_count": 3,
   "metadata": {},
   "outputs": [],
   "source": [
    "u, s, v = compute_svd(a, 2, 0.0000001)\n",
    "u2,s2, v2 = np.linalg.svd(a)"
   ]
  },
  {
   "cell_type": "code",
   "execution_count": 4,
   "metadata": {},
   "outputs": [
    {
     "data": {
      "text/plain": [
       "array([[ 0.08904994, -0.76948327],\n",
       "       [ 0.24073032, -0.49204534],\n",
       "       [ 0.39241067, -0.21460472],\n",
       "       [ 0.54409105,  0.0628306 ],\n",
       "       [ 0.6957714 ,  0.34027055]])"
      ]
     },
     "execution_count": 4,
     "metadata": {},
     "output_type": "execute_result"
    }
   ],
   "source": [
    "u"
   ]
  },
  {
   "cell_type": "code",
   "execution_count": 5,
   "metadata": {},
   "outputs": [
    {
     "data": {
      "text/plain": [
       "array([[-0.08905037, -0.76946087,  0.54294303, -0.15878287, -0.28284425],\n",
       "       [-0.24073058, -0.49198454, -0.66548962,  0.48813542, -0.13728577],\n",
       "       [-0.39241079, -0.21450821,  0.08032656, -0.05006994,  0.88940466],\n",
       "       [-0.544091  ,  0.06296812, -0.33595638, -0.72913491, -0.23557502],\n",
       "       [-0.69577121,  0.34044445,  0.37817641,  0.4498523 , -0.23369962]])"
      ]
     },
     "execution_count": 5,
     "metadata": {},
     "output_type": "execute_result"
    }
   ],
   "source": [
    "u2"
   ]
  },
  {
   "cell_type": "code",
   "execution_count": 6,
   "metadata": {},
   "outputs": [
    {
     "data": {
      "text/plain": [
       "array([148.6315155 ,   6.97643948])"
      ]
     },
     "execution_count": 6,
     "metadata": {},
     "output_type": "execute_result"
    }
   ],
   "source": [
    "s"
   ]
  },
  {
   "cell_type": "code",
   "execution_count": 7,
   "metadata": {},
   "outputs": [
    {
     "data": {
      "text/plain": [
       "array([1.48631522e+02, 6.97643742e+00, 6.29315474e-15, 2.75305002e-15,\n",
       "       6.93110099e-16])"
      ]
     },
     "execution_count": 7,
     "metadata": {},
     "output_type": "execute_result"
    }
   ],
   "source": [
    "s2"
   ]
  },
  {
   "cell_type": "code",
   "execution_count": 8,
   "metadata": {},
   "outputs": [
    {
     "data": {
      "text/plain": [
       "array([[ 0.30605444,  0.31925523,  0.33245602,  0.34565681,  0.3588576 ,\n",
       "         0.37205839,  0.38525918,  0.39845997],\n",
       "       [ 0.56669617,  0.41288817,  0.25908017,  0.10527217, -0.04853582,\n",
       "        -0.20234394, -0.35615182, -0.5099597 ]])"
      ]
     },
     "execution_count": 8,
     "metadata": {},
     "output_type": "execute_result"
    }
   ],
   "source": [
    "v"
   ]
  },
  {
   "cell_type": "code",
   "execution_count": 9,
   "metadata": {},
   "outputs": [
    {
     "data": {
      "text/plain": [
       "array([[-0.30605442, -0.31925521, -0.332456  , -0.3456568 , -0.35885759,\n",
       "        -0.37205838, -0.38525918, -0.39845997],\n",
       "       [ 0.56832857,  0.41459092,  0.26085328,  0.10711564, -0.046622  ,\n",
       "        -0.20035965, -0.35409729, -0.50783493],\n",
       "       [ 0.00222129, -0.22173153,  0.17605313,  0.03581244,  0.11581949,\n",
       "         0.37723567, -0.81060505,  0.32519456],\n",
       "       [-0.03815972,  0.11593867, -0.48505115, -0.15930901,  0.72414494,\n",
       "         0.26186548, -0.06218794, -0.35724127],\n",
       "       [-0.23084617, -0.44541739,  0.59983638,  0.05485486,  0.14115324,\n",
       "         0.23706929,  0.17222795, -0.52887815],\n",
       "       [-0.29939678,  0.35633547, -0.21096252,  0.32761187, -0.47848008,\n",
       "         0.58244965, -0.02732933, -0.25022828],\n",
       "       [-0.6600973 ,  0.4612482 ,  0.26923042,  0.16614104,  0.26241716,\n",
       "        -0.38337514, -0.17802562,  0.06246123],\n",
       "       [-0.05670458,  0.35420659,  0.27993815, -0.83931179, -0.11626427,\n",
       "         0.26100257,  0.05603665,  0.06109669]])"
      ]
     },
     "execution_count": 9,
     "metadata": {},
     "output_type": "execute_result"
    }
   ],
   "source": [
    "v2"
   ]
  },
  {
   "cell_type": "code",
   "execution_count": null,
   "metadata": {},
   "outputs": [],
   "source": []
  }
 ],
 "metadata": {
  "kernelspec": {
   "display_name": "Python 3",
   "language": "python",
   "name": "python3"
  },
  "language_info": {
   "codemirror_mode": {
    "name": "ipython",
    "version": 3
   },
   "file_extension": ".py",
   "mimetype": "text/x-python",
   "name": "python",
   "nbconvert_exporter": "python",
   "pygments_lexer": "ipython3",
   "version": "3.7.6"
  }
 },
 "nbformat": 4,
 "nbformat_minor": 4
}
