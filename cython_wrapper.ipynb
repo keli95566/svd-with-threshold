{
 "cells": [
  {
   "cell_type": "code",
   "execution_count": 2,
   "metadata": {},
   "outputs": [],
   "source": [
    "%load_ext Cython\n",
    "%matplotlib inline\n",
    "%load_ext autoreload\n",
    "%autoreload 2\n",
    "%reload_ext autoreload"
   ]
  },
  {
   "cell_type": "code",
   "execution_count": null,
   "metadata": {},
   "outputs": [],
   "source": []
  },
  {
   "cell_type": "code",
   "execution_count": 7,
   "metadata": {},
   "outputs": [
    {
     "name": "stdout",
     "output_type": "stream",
     "text": [
      "[[ 1  2  3  4  5]\n",
      " [ 6  7  8  9 10]\n",
      " [11 12 13 14 15]]\n"
     ]
    }
   ],
   "source": [
    "import numpy as np\n",
    "\n",
    "a = np.arange(1,16).reshape(3,5)\n",
    "print(a)\n"
   ]
  },
  {
   "cell_type": "code",
   "execution_count": 8,
   "metadata": {},
   "outputs": [
    {
     "data": {
      "text/plain": [
       "(array([[-0.20166491,  0.89031713,  0.40824829],\n",
       "        [-0.5168305 ,  0.25733163, -0.81649658],\n",
       "        [-0.83199609, -0.37565388,  0.40824829]]),\n",
       " array([3.51272233e+01, 2.46539670e+00, 1.58312250e-15]),\n",
       " array([[-0.35455706, -0.39869637, -0.44283568, -0.486975  , -0.53111431],\n",
       "        [-0.68868664, -0.37555453, -0.06242242,  0.2507097 ,  0.56384181],\n",
       "        [ 0.56979546, -0.33522256, -0.62629151, -0.02093113,  0.41264974],\n",
       "        [-0.13260267,  0.29037552, -0.52552174,  0.71032761, -0.34257871],\n",
       "        [-0.24031161,  0.70944196, -0.36274763, -0.44158417,  0.33520145]]))"
      ]
     },
     "execution_count": 8,
     "metadata": {},
     "output_type": "execute_result"
    }
   ],
   "source": [
    "np.linalg.svd(a)"
   ]
  },
  {
   "cell_type": "code",
   "execution_count": 13,
   "metadata": {},
   "outputs": [],
   "source": [
    "%%cython\n",
    "# distutils: language = c++\n",
    "# distutils: sources = power_method.cpp\n",
    "# cython: language_level = 3\n",
    "# cython: boundscheck = False\n",
    "# cython: wraparound = False\n",
    "\n",
    "from libcpp.vector cimport vector\n",
    "\n",
    "cdef extern from \"power_method.cpp\":\n",
    "    struct usv_native:\n",
    "        const vector[vector[double]] U\n",
    "        const vector[double] S\n",
    "        const vector[vector[double]] V\n",
    "        \n",
    "    void free_svd_result(usv_native* r)\n",
    "    \n",
    "    usv_native power_method_with_deflation()\n"
   ]
  },
  {
   "cell_type": "code",
   "execution_count": null,
   "metadata": {},
   "outputs": [],
   "source": []
  }
 ],
 "metadata": {
  "kernelspec": {
   "display_name": "Python 3",
   "language": "python",
   "name": "python3"
  },
  "language_info": {
   "codemirror_mode": {
    "name": "ipython",
    "version": 3
   },
   "file_extension": ".py",
   "mimetype": "text/x-python",
   "name": "python",
   "nbconvert_exporter": "python",
   "pygments_lexer": "ipython3",
   "version": "3.7.6"
  }
 },
 "nbformat": 4,
 "nbformat_minor": 4
}
