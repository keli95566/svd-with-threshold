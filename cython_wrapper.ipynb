{
 "cells": [
  {
   "cell_type": "code",
   "execution_count": null,
   "metadata": {},
   "outputs": [],
   "source": [
    "%load_ext Cython\n",
    "%matplotlib inline\n",
    "%load_ext autoreload\n",
    "%autoreload 2\n",
    "%reload_ext autoreload"
   ]
  },
  {
   "cell_type": "code",
   "execution_count": null,
   "metadata": {},
   "outputs": [],
   "source": [
    "import numpy as np"
   ]
  },
  {
   "cell_type": "code",
   "execution_count": null,
   "metadata": {},
   "outputs": [],
   "source": [
    "%%cython\n",
    "# distutils: language = c++\n",
    "# distutils: sources = power_method.cpp\n",
    "# cython: language_level = 3\n",
    "# cython: boundscheck = False\n",
    "# cython: wraparound = False\n",
    "\n",
    "from libcpp.vector cimport vector\n",
    "\n",
    "cdef extern from \"power_method.cpp\":\n",
    "    struct usv_native:\n",
    "        const vector[vector[double]] U\n",
    "        const vector[double] S\n",
    "        const vector[vector[double]] V\n",
    "        \n",
    "    void free_svd_result(usv_native* r)\n",
    "    \n",
    "    usv_native power_method_with_deflation(double* A, int row, int col, \n",
    "                                          double threshold = -1, double eigen_acurracy = 1e-3)\n",
    "    \n",
    "\n",
    "def partial_svd(double[:,::1] A, double threshold = -1, double eigen_acurracy = 0.0001 ):\n",
    "    \n",
    "    cdef usv_native * res = power_method_with_deflation(&A[0,0], A.shape[0], A.shape[1], treshold, eigen_accuracy)\n",
    "    \n",
    "    cdef int row = res[0].row , num_eigen = res[0].num_eigen , col = res[0].col\n",
    "    \n",
    "    \n",
    "    U  = np.empty(shape=(num_eigen, row), dtype = np.double)\n",
    "    s  = np.empty(shape=(num_eigen), dtype = np.double)\n",
    "    VT = np.empty(shape=(num_eigen,  col), dtype = np.double)\n",
    "    \n",
    "    if(k > 0):\n",
    "        U[:,:] = <double[:num_eigen, row]> res[0].U_n\n",
    "        s[:] = <double[:num_eigen]> res[0].S_n\n",
    "        VT[:,:] = <double[:num_eigen,col]> res[0].V_n\n",
    "    \n",
    "    return U, s, VT"
   ]
  },
  {
   "cell_type": "code",
   "execution_count": null,
   "metadata": {},
   "outputs": [],
   "source": [
    "a = np.arange(1,16).reshape(3,5)\n",
    "\n",
    "U,s, VT = partial_svd(a, 2, 1e-3)\n",
    "\n",
    "print(U, s, VT)"
   ]
  },
  {
   "cell_type": "code",
   "execution_count": null,
   "metadata": {},
   "outputs": [],
   "source": []
  }
 ],
 "metadata": {
  "kernelspec": {
   "display_name": "Python 3",
   "language": "python",
   "name": "python3"
  },
  "language_info": {
   "codemirror_mode": {
    "name": "ipython",
    "version": 3
   },
   "file_extension": ".py",
   "mimetype": "text/x-python",
   "name": "python",
   "nbconvert_exporter": "python",
   "pygments_lexer": "ipython3",
   "version": "3.7.6"
  }
 },
 "nbformat": 4,
 "nbformat_minor": 4
}
